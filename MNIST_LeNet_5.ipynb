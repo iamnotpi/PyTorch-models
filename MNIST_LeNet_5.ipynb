{
  "nbformat": 4,
  "nbformat_minor": 0,
  "metadata": {
    "colab": {
      "provenance": [],
      "gpuType": "T4",
      "toc_visible": true,
      "authorship_tag": "ABX9TyPH1yUeaSZtoRtWNo0JT5a9",
      "include_colab_link": true
    },
    "kernelspec": {
      "name": "python3",
      "display_name": "Python 3"
    },
    "language_info": {
      "name": "python"
    },
    "accelerator": "GPU"
  },
  "cells": [
    {
      "cell_type": "markdown",
      "metadata": {
        "id": "view-in-github",
        "colab_type": "text"
      },
      "source": [
        "<a href=\"https://colab.research.google.com/github/iamnotpi/PyTorch-models/blob/main/MNIST_LeNet_5.ipynb\" target=\"_parent\"><img src=\"https://colab.research.google.com/assets/colab-badge.svg\" alt=\"Open In Colab\"/></a>"
      ]
    },
    {
      "cell_type": "code",
      "execution_count": null,
      "metadata": {
        "colab": {
          "base_uri": "https://localhost:8080/",
          "height": 35
        },
        "id": "9g-rqRrwIKPZ",
        "outputId": "03fff1c7-7a58-42d5-f7c8-ece204413692"
      },
      "outputs": [
        {
          "output_type": "execute_result",
          "data": {
            "text/plain": [
              "'2.2.1+cu121'"
            ],
            "application/vnd.google.colaboratory.intrinsic+json": {
              "type": "string"
            }
          },
          "metadata": {},
          "execution_count": 53
        }
      ],
      "source": [
        "import torch\n",
        "import torch.nn as nn\n",
        "\n",
        "torch.__version__"
      ]
    },
    {
      "cell_type": "code",
      "source": [
        "device = \"cuda\" if torch.cuda.is_available() else \"cpu\"\n",
        "device"
      ],
      "metadata": {
        "colab": {
          "base_uri": "https://localhost:8080/",
          "height": 35
        },
        "id": "tYyHuZ6-X420",
        "outputId": "a86f6570-f466-461f-8c62-0bb31c5d70eb"
      },
      "execution_count": null,
      "outputs": [
        {
          "output_type": "execute_result",
          "data": {
            "text/plain": [
              "'cuda'"
            ],
            "application/vnd.google.colaboratory.intrinsic+json": {
              "type": "string"
            }
          },
          "metadata": {},
          "execution_count": 54
        }
      ]
    },
    {
      "cell_type": "code",
      "source": [
        "class LeNet_5(nn.Module):\n",
        "    def __init__(self):\n",
        "        super().__init__()\n",
        "        self.conv_1 = nn.Conv2d(1, 6, 5, 1, padding=2) # The original LeNet-5 expects images of size 32x32 as inputs, but in the MNIST dataset the images are of size 28x28\n",
        "        self.avgpool_1 = nn.AvgPool2d(2, 2)\n",
        "        self.conv_2 = nn.Conv2d(6, 16, 5, 1)\n",
        "        self.avgpool_2 = nn.AvgPool2d(2, 2)\n",
        "        self.conv_3 = nn.Conv2d(16, 120, 5, 1)\n",
        "        self.flatten = nn.Flatten()\n",
        "        self.linear_1 = nn.Linear(120, 84)\n",
        "        self.linear_2 = nn.Linear(84, 10)\n",
        "        self.relu = nn.ReLU()\n",
        "\n",
        "    def forward(self, x):\n",
        "        z = self.relu(self.conv_1(x))\n",
        "        z = self.avgpool_1(z)\n",
        "        z = self.relu(self.conv_2(z))\n",
        "        z = self.avgpool_2(z)\n",
        "        z = self.relu(self.conv_3(z))\n",
        "        z = self.flatten(z)\n",
        "        return self.linear_2(self.relu(self.linear_1(z)))"
      ],
      "metadata": {
        "id": "jWMMEk51IwMR"
      },
      "execution_count": null,
      "outputs": []
    },
    {
      "cell_type": "code",
      "source": [
        "from tensorflow import keras\n",
        "\n",
        "(X_train, y_train), (X_test, y_test) = keras.datasets.mnist.load_data()\n",
        "\n",
        "X_train = torch.from_numpy(X_train).type(torch.float).to(device)\n",
        "X_test = torch.from_numpy(X_test).type(torch.float).to(device)\n",
        "y_train = torch.from_numpy(y_train).type(torch.long).to(device)\n",
        "y_test = torch.from_numpy(y_test).type(torch.long).to(device)"
      ],
      "metadata": {
        "id": "0_B6EG0naWaW"
      },
      "execution_count": null,
      "outputs": []
    },
    {
      "cell_type": "code",
      "source": [
        "X_train.shape, y_train.shape"
      ],
      "metadata": {
        "colab": {
          "base_uri": "https://localhost:8080/"
        },
        "id": "Khm5edBkbGeH",
        "outputId": "e78eaa77-14b0-4c14-8283-8b2f9c5a3a61"
      },
      "execution_count": null,
      "outputs": [
        {
          "output_type": "execute_result",
          "data": {
            "text/plain": [
              "(torch.Size([60000, 28, 28]), torch.Size([60000]))"
            ]
          },
          "metadata": {},
          "execution_count": 58
        }
      ]
    },
    {
      "cell_type": "code",
      "source": [
        "X_test.shape, y_test.shape"
      ],
      "metadata": {
        "colab": {
          "base_uri": "https://localhost:8080/"
        },
        "id": "xKvbPaAnbJDG",
        "outputId": "5dd10832-cfd0-47f5-a69a-f4e3f2beeb94"
      },
      "execution_count": null,
      "outputs": [
        {
          "output_type": "execute_result",
          "data": {
            "text/plain": [
              "(torch.Size([10000, 28, 28]), torch.Size([10000]))"
            ]
          },
          "metadata": {},
          "execution_count": 59
        }
      ]
    },
    {
      "cell_type": "code",
      "source": [
        "X_train = X_train.reshape((-1, 1, 28, 28))\n",
        "X_test = X_test.reshape((-1, 1, 28, 28))"
      ],
      "metadata": {
        "id": "Cx93dF7guTJ0"
      },
      "execution_count": null,
      "outputs": []
    },
    {
      "cell_type": "code",
      "source": [
        "def to_one_hot(labels, num_classes):\n",
        "    one_hot_encoded = torch.zeros((labels.shape[0], num_classes))\n",
        "    for label in range(labels.shape[0]):\n",
        "        one_hot_encoded[label, int(labels[label].item())-1] = 1 # .item() get the scalar value from a 0-d tensor\n",
        "    return one_hot_encoded"
      ],
      "metadata": {
        "id": "nTuz-kV6jndD"
      },
      "execution_count": null,
      "outputs": []
    },
    {
      "cell_type": "code",
      "source": [
        "# y_train = to_one_hot(y_train, 10)\n",
        "# y_test = to_one_hot(y_test, 10)"
      ],
      "metadata": {
        "id": "6WNbDGaFmoXB"
      },
      "execution_count": null,
      "outputs": []
    },
    {
      "cell_type": "code",
      "source": [
        "import matplotlib.pyplot as plt\n",
        "\n",
        "def plot_loss(train_loss, val_loss):\n",
        "    epochs = range(1, len(train_loss) + 1)\n",
        "    plt.plot(epochs, train_loss, \"b\", label=\"Training loss\")\n",
        "    plt.plot(epochs, val_loss, \"r\", label=\"Validation loss\")\n",
        "    plt.grid()\n",
        "    plt.xlabel(\"Epochs\")\n",
        "    plt.ylabel(\"Loss\")\n",
        "    plt.show()"
      ],
      "metadata": {
        "id": "LQxKrcz_US8O"
      },
      "execution_count": null,
      "outputs": []
    },
    {
      "cell_type": "code",
      "source": [
        "model_0 = LeNet_5().to(device)\n",
        "\n",
        "def train(model, X, y, batch_size=20, epochs=40, val_split=0.2):\n",
        "    optimizer = torch.optim.Adam(params=model.parameters())\n",
        "    loss_fn = nn.CrossEntropyLoss()\n",
        "    train_loss_array = []\n",
        "    val_loss_array = []\n",
        "    # Split the training set and the validation set\n",
        "    val_size = int(val_split * len(X))\n",
        "    X_train = X[val_size:]\n",
        "    y_train = y[val_size:]\n",
        "\n",
        "    batches = len(X_train) // batch_size # Total number of batches\n",
        "    loss = 0.0\n",
        "\n",
        "    for epoch in range(epochs):\n",
        "        model.train() # Put the model to training mode\n",
        "        for batch in range(batches):\n",
        "            X_train_batch = X_train[batch * batch_size: (batch + 1) * batch_size]\n",
        "            y_train_batch = y_train[batch * batch_size: (batch + 1) * batch_size]\n",
        "            y_logits = model(X_train_batch).squeeze()\n",
        "            batch_loss = loss_fn(y_logits, y_train_batch) # CrossEntropyLoss expects raw unnormalized logits as inputs and raw target\n",
        "            optimizer.zero_grad()\n",
        "            batch_loss.backward()\n",
        "            optimizer.step()\n",
        "            loss += batch_loss\n",
        "        loss /= batches\n",
        "\n",
        "        if val_split:\n",
        "            X_val = X[:val_size]\n",
        "            y_val = y[:val_size]\n",
        "            model_0.eval()\n",
        "            with torch.inference_mode():\n",
        "                y_val_logits = model(X_val).squeeze()\n",
        "                val_loss = loss_fn(y_val_logits, y_val)\n",
        "                print(f\"Epochs: {epoch + 1} | Training loss: {loss:.4f} | Validation loss: {val_loss:.4f}\")\n",
        "\n",
        "            # For plotting purpose\n",
        "            train_loss_array.append(loss.item())\n",
        "            val_loss_array.append(val_loss.item())\n",
        "\n",
        "    return train_loss_array, val_loss_array"
      ],
      "metadata": {
        "id": "C0vFVpBHdOqN"
      },
      "execution_count": null,
      "outputs": []
    },
    {
      "cell_type": "code",
      "source": [
        "train_loss, val_loss = train(model_0, X_train, y_train)"
      ],
      "metadata": {
        "colab": {
          "base_uri": "https://localhost:8080/"
        },
        "id": "KVhPr-aUkDzw",
        "outputId": "e39cf76d-a86d-4879-8d51-10eb6b404cf3"
      },
      "execution_count": null,
      "outputs": [
        {
          "output_type": "stream",
          "name": "stdout",
          "text": [
            "Epochs: 1 | Training loss: 0.1454 | Validation loss: 0.1211\n",
            "Epochs: 2 | Training loss: 0.0628 | Validation loss: 0.0955\n",
            "Epochs: 3 | Training loss: 0.0481 | Validation loss: 0.0699\n",
            "Epochs: 4 | Training loss: 0.0384 | Validation loss: 0.0878\n",
            "Epochs: 5 | Training loss: 0.0382 | Validation loss: 0.0727\n",
            "Epochs: 6 | Training loss: 0.0300 | Validation loss: 0.0749\n",
            "Epochs: 7 | Training loss: 0.0276 | Validation loss: 0.0762\n",
            "Epochs: 8 | Training loss: 0.0259 | Validation loss: 0.0593\n",
            "Epochs: 9 | Training loss: 0.0238 | Validation loss: 0.0970\n",
            "Epochs: 10 | Training loss: 0.0233 | Validation loss: 0.0645\n",
            "Epochs: 11 | Training loss: 0.0204 | Validation loss: 0.0713\n",
            "Epochs: 12 | Training loss: 0.0215 | Validation loss: 0.0806\n",
            "Epochs: 13 | Training loss: 0.0178 | Validation loss: 0.0909\n",
            "Epochs: 14 | Training loss: 0.0184 | Validation loss: 0.0820\n",
            "Epochs: 15 | Training loss: 0.0200 | Validation loss: 0.1074\n",
            "Epochs: 16 | Training loss: 0.0211 | Validation loss: 0.1010\n",
            "Epochs: 17 | Training loss: 0.0195 | Validation loss: 0.0953\n",
            "Epochs: 18 | Training loss: 0.0174 | Validation loss: 0.1188\n",
            "Epochs: 19 | Training loss: 0.0185 | Validation loss: 0.0931\n",
            "Epochs: 20 | Training loss: 0.0183 | Validation loss: 0.0845\n",
            "Epochs: 21 | Training loss: 0.0170 | Validation loss: 0.0924\n",
            "Epochs: 22 | Training loss: 0.0156 | Validation loss: 0.1077\n",
            "Epochs: 23 | Training loss: 0.0108 | Validation loss: 0.1138\n",
            "Epochs: 24 | Training loss: 0.0238 | Validation loss: 0.1042\n",
            "Epochs: 25 | Training loss: 0.0152 | Validation loss: 0.0935\n",
            "Epochs: 26 | Training loss: 0.0183 | Validation loss: 0.1356\n",
            "Epochs: 27 | Training loss: 0.0160 | Validation loss: 0.1825\n",
            "Epochs: 28 | Training loss: 0.0202 | Validation loss: 0.1417\n",
            "Epochs: 29 | Training loss: 0.0175 | Validation loss: 0.1265\n",
            "Epochs: 30 | Training loss: 0.0175 | Validation loss: 0.1116\n",
            "Epochs: 31 | Training loss: 0.0160 | Validation loss: 0.1369\n",
            "Epochs: 32 | Training loss: 0.0155 | Validation loss: 0.1368\n",
            "Epochs: 33 | Training loss: 0.0144 | Validation loss: 0.1525\n",
            "Epochs: 34 | Training loss: 0.0222 | Validation loss: 0.1465\n",
            "Epochs: 35 | Training loss: 0.0155 | Validation loss: 0.1923\n",
            "Epochs: 36 | Training loss: 0.0160 | Validation loss: 0.1628\n",
            "Epochs: 37 | Training loss: 0.0188 | Validation loss: 0.1503\n",
            "Epochs: 38 | Training loss: 0.0191 | Validation loss: 0.1375\n",
            "Epochs: 39 | Training loss: 0.0189 | Validation loss: 0.1544\n",
            "Epochs: 40 | Training loss: 0.0160 | Validation loss: 0.1492\n"
          ]
        }
      ]
    },
    {
      "cell_type": "code",
      "source": [
        "plot_loss(train_loss, val_loss)"
      ],
      "metadata": {
        "colab": {
          "base_uri": "https://localhost:8080/",
          "height": 452
        },
        "id": "Sfm7XG6BtFU_",
        "outputId": "5cae8238-f998-4b50-bc05-cf5bbf3bb04d"
      },
      "execution_count": null,
      "outputs": [
        {
          "output_type": "display_data",
          "data": {
            "text/plain": [
              "<Figure size 640x480 with 1 Axes>"
            ],
            "image/png": "[encoded data removed]"
          },
          "metadata": {}
        }
      ]
    },
    {
      "cell_type": "code",
      "source": [
        "torch.manual_seed(42)\n",
        "model_1 = LeNet_5().to(device)\n",
        "train_loss_1, val_loss_1 = train(model_1,\n",
        "                                 X_train,\n",
        "                                 y_train,\n",
        "                                 batch_size=32,\n",
        "                                 epochs=10)"
      ],
      "metadata": {
        "colab": {
          "base_uri": "https://localhost:8080/"
        },
        "id": "3yaVTN38x-il",
        "outputId": "d144c39a-5a80-42f4-d8d2-030e8fed353a"
      },
      "execution_count": null,
      "outputs": [
        {
          "output_type": "stream",
          "name": "stdout",
          "text": [
            "Epochs: 1 | Training loss: 0.1563 | Validation loss: 0.1213\n",
            "Epochs: 2 | Training loss: 0.0625 | Validation loss: 0.1201\n",
            "Epochs: 3 | Training loss: 0.0465 | Validation loss: 0.1010\n",
            "Epochs: 4 | Training loss: 0.0380 | Validation loss: 0.0807\n",
            "Epochs: 5 | Training loss: 0.0334 | Validation loss: 0.0963\n",
            "Epochs: 6 | Training loss: 0.0309 | Validation loss: 0.0814\n",
            "Epochs: 7 | Training loss: 0.0247 | Validation loss: 0.0724\n",
            "Epochs: 8 | Training loss: 0.0240 | Validation loss: 0.0856\n",
            "Epochs: 9 | Training loss: 0.0204 | Validation loss: 0.0817\n",
            "Epochs: 10 | Training loss: 0.0204 | Validation loss: 0.0822\n"
          ]
        }
      ]
    },
    {
      "cell_type": "code",
      "source": [
        "plot_loss(train_loss_1, val_loss_1)"
      ],
      "metadata": {
        "colab": {
          "base_uri": "https://localhost:8080/",
          "height": 449
        },
        "id": "BjE97GRc25D5",
        "outputId": "cb7f3577-49ab-4d8c-e20b-7f9a7d445548"
      },
      "execution_count": null,
      "outputs": [
        {
          "output_type": "display_data",
          "data": {
            "text/plain": [
              "<Figure size 640x480 with 1 Axes>"
            ],
            "image/png": "[encoded data removed]"
          },
          "metadata": {}
        }
      ]
    },
    {
      "cell_type": "code",
      "source": [
        "train(model_1, X_train, y_train, batch_size=32, epochs=6, val_split=0)"
      ],
      "metadata": {
        "colab": {
          "base_uri": "https://localhost:8080/"
        },
        "id": "BFvXTFNvy779",
        "outputId": "962b24ad-8d83-475f-c428-1d24967dba94"
      },
      "execution_count": null,
      "outputs": [
        {
          "output_type": "execute_result",
          "data": {
            "text/plain": [
              "([], [])"
            ]
          },
          "metadata": {},
          "execution_count": 74
        }
      ]
    },
    {
      "cell_type": "code",
      "source": [
        "with torch.inference_mode():\n",
        "    model_1.eval()\n",
        "    test_logits = model_1(X_test.reshape((-1, 1, 28, 28)))\n",
        "    y_preds = torch.argmax(nn.Softmax(dim=-1)(test_logits), dim=-1).squeeze()"
      ],
      "metadata": {
        "id": "wTeP3vzv0boV"
      },
      "execution_count": null,
      "outputs": []
    },
    {
      "cell_type": "code",
      "source": [
        "correct = torch.eq(y_preds, y_test).sum().item()\n",
        "acc = (correct / len(y_preds)) * 100\n",
        "acc"
      ],
      "metadata": {
        "colab": {
          "base_uri": "https://localhost:8080/"
        },
        "id": "gL7XTRmc1FEz",
        "outputId": "f8bad7c3-2b87-4cf2-8852-2e19569551fa"
      },
      "execution_count": null,
      "outputs": [
        {
          "output_type": "execute_result",
          "data": {
            "text/plain": [
              "98.89"
            ]
          },
          "metadata": {},
          "execution_count": 78
        }
      ]
    }
  ]
}
